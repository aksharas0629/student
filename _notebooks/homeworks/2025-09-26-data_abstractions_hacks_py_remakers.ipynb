{
 "cells": [
  {
   "cell_type": "code",
   "execution_count": null,
   "id": "ca7c3f46",
   "metadata": {
    "vscode": {
     "languageId": "yaml"
    }
   },
   "outputs": [],
   "source": [
    "---\n",
    "toc: true\n",
    "comments: false\n",
    "layout: post\n",
    "categories: [CSP Big Idea 3]\n",
    "title: 3.2 Data Abstractions Python Hack\n",
    "author: Jaynee Chauhan, Michelle Ji, Lucas Masterson\n",
    "description: Hack(s) for intro to data abstractions in Python.\n",
    "type: ccc\n",
    "permalink: /csp/big-idea-3/data-abstractions/p4/hacks-py\n",
    "---"
   ]
  },
  {
   "cell_type": "markdown",
   "id": "14d2f5f9",
   "metadata": {},
   "source": [
    "## Python Lab: Simple DBs\n",
    "\n",
    "In this lab, you'll be working on a simple \"database\" system consisting of dictionaries. The idea here is to understand some basic CRUD actions and how you can use data abstractions (dictionaries in this case) to represent redundant, similar data under a unified structure.\n",
    "\n",
    "You'll have to do some research about some Python syntax for this!\n",
    "\n",
    "You can complete the Python lab by simply running your code and getting your outputs in the Jupyter notebook."
   ]
  },
  {
   "cell_type": "code",
   "execution_count": null,
   "id": "04367227",
   "metadata": {},
   "outputs": [],
   "source": [
    "db = [\n",
    "    {\"name\": \"Alice\", \"age\": 16, \"grade\": \"A\"},\n",
    "    {\"name\": \"Bob\", \"age\": 17, \"grade\": \"B\"},\n",
    "    {\"name\": \"Charlie\", \"age\": 16, \"grade\": \"C\"}\n",
    "]\n",
    "\n",
    "# Display all records\n",
    "def display_db(database):\n",
    "    print(\"All records in the list:\")\n",
    "    for i, record in enumerate(database):\n",
    "        print(f\"Index {i}: {record}\")\n",
    "\n",
    "# Add a new record\n",
    "def add_record(database):\n",
    "    name = input(\"Enter the name: \")\n",
    "    age = int(input(\"Enter the age: \"))\n",
    "    grade = input(\"Enter the grade: \")\n",
    "    \n",
    "    database.append({\"name\": name, \"age\": age, \"grade\": grade})\n",
    "    print(f\"Added record for {name}.\")\n",
    "\n",
    "# Find a record by name\n",
    "def find_record(database, search_name):\n",
    "    for record in database:\n",
    "        if record[\"name\"].lower() == search_name.lower():\n",
    "            print(\"Record found:\", record)\n",
    "            return\n",
    "    print(f\"No record with the name '{search_name}' was found.\")\n",
    "\n",
    "# Update a record by name\n",
    "def update_record(database, search_name):\n",
    "    for record in database:\n",
    "        if record[\"name\"].lower() == search_name.lower():\n",
    "            print(\"Current record:\", record)\n",
    "            record[\"age\"] = int(input(\"Enter new age: \"))\n",
    "            record[\"grade\"] = input(\"Enter new grade: \")\n",
    "            print(f\"Record for {record['name']} updated.\")\n",
    "            return\n",
    "    print(f\"No record with the name '{search_name}' was found.\")\n",
    "\n",
    "# Delete a record by name\n",
    "def delete_record(database, search_name):\n",
    "    for i, record in enumerate(database):\n",
    "        if record[\"name\"].lower() == search_name.lower():\n",
    "            removed = database.pop(i)\n",
    "            print(f\"Deleted record: {removed}\")\n",
    "            return\n",
    "    print(f\"No record with the name '{search_name}' was found.\")\n",
    "\n",
    "# Example usage\n",
    "display_db(db)\n",
    "# Uncomment to test:\n",
    "# add_record(db)\n",
    "# find_record(db, \"Alice\")\n",
    "# update_record(db, \"Bob\")\n",
    "# del\n"
   ]
  }
 ],
 "metadata": {
  "language_info": {
   "name": "python"
  }
 },
 "nbformat": 4,
 "nbformat_minor": 5
}
