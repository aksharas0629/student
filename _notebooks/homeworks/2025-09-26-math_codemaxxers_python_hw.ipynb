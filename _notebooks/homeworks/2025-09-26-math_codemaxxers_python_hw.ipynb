{
 "cells": [
  {
   "cell_type": "raw",
   "id": "6290bcd2",
   "metadata": {
    "vscode": {
     "languageId": "raw"
    }
   },
   "source": [
    "---\n",
    "title: \"Mathematical Operations in Javascript and Python - Hacks\"\n",
    "description: \"Apply your skills of math, logic, and coding.\"\n",
    "layout: post\n",
    "permalink: /javascript/mathematical-expressions/codemaxxers-hw\n",
    "---"
   ]
  },
  {
   "cell_type": "markdown",
   "id": "d98b569e",
   "metadata": {},
   "source": [
    "# Basic Algebraic Math hacks\n",
    "\n",
    "## Q1 (Exponents):\n",
    "### A cube has a side length of 4 units. What is its volume?"
   ]
  },
  {
   "cell_type": "raw",
   "id": "20abc5aa",
   "metadata": {},
   "source": []
  },
  {
   "cell_type": "code",
   "execution_count": null,
   "id": "235ceb13",
   "metadata": {},
   "outputs": [],
   "source": [
    "# Given side length of the cube\n",
    "side_length = 4\n",
    "\n",
    "# Volume of a cube = side_length ** 3\n",
    "volume = side_length ** 3\n",
    "\n",
    "print(\"The volume of the cube is:\", volume, \"cubic units\")\n"
   ]
  },
  {
   "cell_type": "markdown",
   "id": "3fb1dd4d",
   "metadata": {},
   "source": [
    "## Q2 (PEMDAS):\n",
    "### Evaluate the expression: \n",
    "\n",
    " (12+8)/2+(3^2)"
   ]
  },
  {
   "cell_type": "code",
   "execution_count": null,
   "id": "49d712a3",
   "metadata": {},
   "outputs": [],
   "source": [
    "# Q1 (Exponents)\n",
    "# A cube has a side length of 4 units. What is its volume?\n",
    "side_length = 4\n",
    "volume = side_length ** 3\n",
    "print(\"The volume of the cube is:\", volume, \"cubic units\")\n",
    "\n",
    "# Q2 (PEMDAS)\n",
    "# Evaluate the expression: (12+8)/2 + (3^2)\n",
    "# Note: In Python, ^ is bitwise XOR, so we use ** for exponentiation\n",
    "\n",
    "result = (12 + 8) / 2 + (3 ** 2)\n",
    "print(\"The result of the expression is:\", result)\n"
   ]
  },
  {
   "cell_type": "markdown",
   "id": "fcaa4762",
   "metadata": {},
   "source": [
    "## Q3 (Algorithm): \n",
    "\n",
    "Write Python  code where you define variables and run commands that find the values of operations you apply onto them"
   ]
  },
  {
   "cell_type": "code",
   "execution_count": null,
   "id": "0a2081a9",
   "metadata": {},
   "outputs": [],
   "source": [
    "# Q1 (Exponents)\n",
    "# A cube has a side length of 4 units. What is its volume?\n",
    "side_length = 4\n",
    "volume = side_length ** 3\n",
    "print(\"The volume of the cube is:\", volume, \"cubic units\")\n",
    "\n",
    "# Q2 (PEMDAS)\n",
    "# Evaluate the expression: (12+8)/2 + (3^2)\n",
    "# Note: In Python, ^ is bitwise XOR, so we use ** for exponentiation\n",
    "\n",
    "result = (12 + 8) / 2 + (3 ** 2)\n",
    "print(\"The result of the expression is:\", result)\n",
    "\n",
    "# Q3 (Algorithm)\n",
    "# Define variables and perform operations on them\n",
    "a = 10\n",
    "b = 5\n",
    "c = 2\n",
    "\n",
    "# Perform arithmetic operations\n",
    "sum_result = a + b\n",
    "product_result = b * c\n",
    "difference_result = a - c\n",
    "division_result = a / b\n",
    "power_result = b ** c\n",
    "\n",
    "# Display the results\n",
    "print(\"Sum:\", sum_result)\n",
    "print(\"Product:\", product_result)\n",
    "print(\"Difference:\", difference_result)\n",
    "print(\"Division:\", division_result)\n",
    "print(\"Power:\", power_result)"
   ]
  },
  {
   "cell_type": "markdown",
   "id": "40a2f9a8",
   "metadata": {},
   "source": [
    "<img src=\"/images/3_3diagram.png\" alt=\"Diagram showing mathematical operations\" style=\"max-width:300px; margin:10px;\">\n"
   ]
  }
 ],
 "metadata": {
  "kernelspec": {
   "display_name": "venv",
   "language": "python",
   "name": "python3"
  },
  "language_info": {
   "codemirror_mode": {
    "name": "ipython",
    "version": 3
   },
   "file_extension": ".py",
   "mimetype": "text/x-python",
   "name": "python",
   "nbconvert_exporter": "python",
   "pygments_lexer": "ipython3",
   "version": "3.12.3"
  }
 },
 "nbformat": 4,
 "nbformat_minor": 5
}
