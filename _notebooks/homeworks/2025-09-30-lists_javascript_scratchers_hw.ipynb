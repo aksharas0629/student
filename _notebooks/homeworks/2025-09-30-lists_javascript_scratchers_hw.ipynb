{
 "cells": [
  {
   "cell_type": "raw",
   "id": "cae8bc40",
   "metadata": {
    "vscode": {
     "languageId": "raw"
    }
   },
   "source": [
    "---\n",
    "layout: post\n",
    "title: Lists Hacks Javascript\n",
    "description: This is a CSP Hacks notebook based on the lists lesson\n",
    "comments: true\n",
    "permalink: /csp/big-idea-3/<lists>/<4>/javascript_hw\n",
    "---"
   ]
  },
  {
   "cell_type": "markdown",
   "id": "44bdd529",
   "metadata": {},
   "source": [
    "# Javascript Lists Homework"
   ]
  },
  {
   "cell_type": "markdown",
   "id": "6a975112",
   "metadata": {},
   "source": [
    "- After going through the lists lesson work on these hacks in your own repository"
   ]
  },
  {
   "cell_type": "markdown",
   "id": "4b1ccc5c",
   "metadata": {},
   "source": [
    "### Hack 1 – Add Up Numbers\n",
    "\n",
    "Make a list of numbers. Write code to:\n",
    "1. Find the total sum.\n",
    "2. Find the average."
   ]
  },
  {
   "cell_type": "code",
   "execution_count": 3,
   "id": "9fc29a1a",
   "metadata": {
    "vscode": {
     "languageId": "javascript"
    }
   },
   "outputs": [
    {
     "data": {
      "application/javascript": "let numbers = [4, 7, 1, 9, 6, 7, 10];\n\n// Find the total sum\nlet total = 0;\nfor (let num of numbers) {\n  total += num;\n}\n\n// Find the average\nlet average = total / numbers.length;\n\n// Display results on the page\nvar output = document.createElement(\"div\");\noutput.innerHTML = \"<p>Total sum: \" + total + \"</p><p>Average: \" + average + \"</p>\";\ndocument.body.appendChild(output);\n\n// Also log to console (optional)\nconsole.log(\"Total sum:\", total);\nconsole.log(\"Average:\", average);\n",
      "text/plain": [
       "<IPython.core.display.Javascript object>"
      ]
     },
     "metadata": {},
     "output_type": "display_data"
    }
   ],
   "source": [
    "%%javascript\n",
    "let numbers = [4, 7, 1, 9, 6, 7, 10];\n",
    "\n",
    "// Find the total sum\n",
    "let total = 0;\n",
    "for (let num of numbers) {\n",
    "  total += num;\n",
    "}\n",
    "\n",
    "// Find the average\n",
    "let average = total / numbers.length;\n",
    "\n",
    "// Display results on the page\n",
    "var output = document.createElement(\"div\");\n",
    "output.innerHTML = \"<p>Total sum: \" + total + \"</p><p>Average: \" + average + \"</p>\";\n",
    "document.body.appendChild(output);\n",
    "\n",
    "// Also log to console (optional)\n",
    "console.log(\"Total sum:\", total);\n",
    "console.log(\"Average:\", average);\n"
   ]
  },
  {
   "cell_type": "markdown",
   "id": "519b9811",
   "metadata": {},
   "source": [
    "### Hack 2 – Count Repeats\n",
    "\n",
    "Make a list with repeated items. Write code to count how many times each item appears."
   ]
  },
  {
   "cell_type": "code",
   "execution_count": 5,
   "id": "b9e989ea",
   "metadata": {
    "vscode": {
     "languageId": "javascript"
    }
   },
   "outputs": [
    {
     "data": {
      "application/javascript": "// Hack 2 - Count Repeats\nlet items = [\"cat\", \"dog\", \"cat\", \"bird\", \"bird\", \"bird\"];\n\n// Create an object to store counts\nlet counts = {};\n\nfor (let item of items) {\n  if (counts[item]) {\n    counts[item] += 1;\n  } else {\n    counts[item] = 1;\n  }\n}\n\n// Print how many times each item appears\nfor (let item in counts) {\n  console.log(item + \" appears \" + counts[item] + \" times\");\n}\n",
      "text/plain": [
       "<IPython.core.display.Javascript object>"
      ]
     },
     "metadata": {},
     "output_type": "display_data"
    }
   ],
   "source": [
    "%%javascript\n",
    "// Hack 2 - Count Repeats\n",
    "let items = [\"cat\", \"dog\", \"cat\", \"bird\", \"bird\", \"bird\"];\n",
    "\n",
    "// Create an object to store counts\n",
    "let counts = {};\n",
    "\n",
    "for (let item of items) {\n",
    "  if (counts[item]) {\n",
    "    counts[item] += 1;\n",
    "  } else {\n",
    "    counts[item] = 1;\n",
    "  }\n",
    "}\n",
    "\n",
    "// Print how many times each item appears\n",
    "for (let item in counts) {\n",
    "  console.log(item + \" appears \" + counts[item] + \" times\");\n",
    "}\n"
   ]
  },
  {
   "cell_type": "markdown",
   "id": "800ed729",
   "metadata": {},
   "source": [
    "### Hack 3 – Keep Only Evens\n",
    "\n",
    "Make a list of numbers. Write code to create a new list with only even numbers."
   ]
  },
  {
   "cell_type": "code",
   "execution_count": 7,
   "id": "4f7fc860",
   "metadata": {
    "vscode": {
     "languageId": "javascript"
    }
   },
   "outputs": [
    {
     "data": {
      "application/javascript": "// Hack 3 - Keep Only Evens\nlet numbers = [3, 8, 5, 12, 7, 9, 13, 31, 66, 18];\n\n// Create a new list with only even numbers\nlet evens = [];\n\nfor (let num of numbers) {\n  if (num % 2 === 0) {\n    evens.push(num);\n  }\n}\n\n// Print the new list\nconsole.log(\"Even numbers:\", evens);\n",
      "text/plain": [
       "<IPython.core.display.Javascript object>"
      ]
     },
     "metadata": {},
     "output_type": "display_data"
    }
   ],
   "source": [
    "%%javascript\n",
    "// Hack 3 - Keep Only Evens\n",
    "let numbers = [3, 8, 5, 12, 7, 9, 13, 31, 66, 18];\n",
    "\n",
    "// Create a new list with only even numbers\n",
    "let evens = [];\n",
    "\n",
    "for (let num of numbers) {\n",
    "  if (num % 2 === 0) {\n",
    "    evens.push(num);\n",
    "  }\n",
    "}\n",
    "\n",
    "// Print the new list\n",
    "console.log(\"Even numbers:\", evens);\n"
   ]
  }
 ],
 "metadata": {
  "kernelspec": {
   "display_name": "venv (3.13.7)",
   "language": "python",
   "name": "python3"
  },
  "language_info": {
   "codemirror_mode": {
    "name": "ipython",
    "version": 3
   },
   "file_extension": ".py",
   "mimetype": "text/x-python",
   "name": "python",
   "nbconvert_exporter": "python",
   "pygments_lexer": "ipython3",
   "version": "3.13.7"
  }
 },
 "nbformat": 4,
 "nbformat_minor": 5
}
