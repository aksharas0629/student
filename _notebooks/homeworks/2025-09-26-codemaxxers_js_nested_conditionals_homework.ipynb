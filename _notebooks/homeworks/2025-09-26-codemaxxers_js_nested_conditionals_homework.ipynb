{
  "cells": [
    {
      "cell_type": "raw",
      "metadata": {
        "vscode": {
          "languageId": "raw"
        }
      },
      "source": [
        "---\n",
        "title: \"Nested Conditionals in Javascript - Homework\"\n",
        "description: \"Apply your skills of multilayered conditionals and combine all you've learned so far.\"\n",
        "layout: post\n",
        "permalink: /csp/codemaxxers/nested-conditionals-homework-js\n",
        "---"
      ]
    },
    {
      "cell_type": "markdown",
      "metadata": {},
      "source": [
        "# Nested Conditionals Homework: Javascript\n",
        "\n",
        "Complete the following three problems to practice working with nested conditionals. Each problem increases in difficulty. **All problems must be completed in JavaScript.**"
      ]
    },
    {
      "cell_type": "markdown",
      "metadata": {},
      "source": [
        "let orderTotal = 45;\n",
        "let isMember = true;\n",
        "let shippingCost;\n",
        "\n",
        "if (orderTotal >= 50) {\n",
        "    if (isMember) {\n",
        "        shippingCost = 0;\n",
        "    } else {\n",
        "        shippingCost = 5;\n",
        "    }\n",
        "} else {\n",
        "    if (isMember) {\n",
        "        shippingCost = 3;\n",
        "    } else {\n",
        "        shippingCost = 8;\n",
        "    }\n",
        "}\n",
        "\n",
        "console.log(\"Shipping cost is $\" + shippingCost);\n"
      ]
    },
    {
      "cell_type": "code",
      "execution_count": null,
      "metadata": {
        "vscode": {
          "languageId": "javascript"
        }
      },
      "outputs": [],
      "source": [
        "// Initial conditions - DO NOT CHANGE THESE\n",
        "let orderTotal = 45;\n",
        "let isMember = true;\n",
        "let shippingCost = 0;\n",
        "\n",
        "console.log(`Order Total: $${orderTotal}`);\n",
        "console.log(`Member: ${isMember}`);\n",
        "\n",
        "// Complete the nested conditional\n",
        "if (orderTotal >= 50) {\n",
        "    if (isMember) {\n",
        "        shippingCost = 0;  // Free shipping for members\n",
        "    } else {\n",
        "        shippingCost = 5;  // $5 for non-members\n",
        "    }\n",
        "} else {\n",
        "    if (isMember) {\n",
        "        shippingCost = 3;  // $3 for members\n",
        "    } else {\n",
        "        shippingCost = 8;  // $8 for non-members\n",
        "    }\n",
        "}\n",
        "\n",
        "console.log(`Shipping Cost: $${shippingCost}`);\n"
      ]
    },
    {
      "cell_type": "markdown",
      "metadata": {},
      "source": [
        "## Problem 2: Build a Restaurant Recommendation System (Medium)\n",
        "\n",
        "Create a system that recommends a restaurant based on the user's budget and cuisine preference.\n",
        "\n",
        "**Requirements:**\n",
        "- If budget is \"high\" (over $30 per person):\n",
        "  - If cuisine is \"italian\": recommend \"Bella Notte\"\n",
        "  - If cuisine is \"japanese\": recommend \"Sakura Palace\"\n",
        "  - For any other cuisine: recommend \"The Grand Bistro\"\n",
        "- If budget is \"medium\" ($15-$30 per person):\n",
        "  - If cuisine is \"italian\": recommend \"Mario's Pizzeria\"\n",
        "  - If cuisine is \"japanese\": recommend \"Tokyo Express\"\n",
        "  - For any other cuisine: recommend \"Downtown Diner\"\n",
        "- If budget is \"low\" (under $15 per person):\n",
        "  - Recommend \"Food Court\" regardless of cuisine preference\n",
        "\n",
        "**Your task:** Write the complete nested conditional structure. Store the recommendation in the `recommendation` variable."
      ]
    },
    {
      "cell_type": "code",
      "execution_count": null,
      "metadata": {
        "vscode": {
          "languageId": "javascript"
        }
      },
      "outputs": [],
      "source": [
        "// Test variables\n",
        "let budgetPerPerson = 25;\n",
        "let cuisine = \"japanese\";\n",
        "let recommendation = \"\";\n",
        "\n",
        "console.log(`Budget per person: $${budgetPerPerson}`);\n",
        "console.log(`Preferred cuisine: ${cuisine}`);\n",
        "\n",
        "// Recommendation logic\n",
        "if (budgetPerPerson > 30) {\n",
        "    if (cuisine === \"italian\") {\n",
        "        recommendation = \"Bella Notte\";\n",
        "    } else if (cuisine === \"japanese\") {\n",
        "        recommendation = \"Sakura Palace\";\n",
        "    } else {\n",
        "        recommendation = \"The Grand Bistro\";\n",
        "    }\n",
        "} else if (budgetPerPerson >= 15 && budgetPerPerson <= 30) {\n",
        "    if (cuisine === \"italian\") {\n",
        "        recommendation = \"Mario's Pizzeria\";\n",
        "    } else if (cuisine === \"japanese\") {\n",
        "        recommendation = \"Tokyo Express\";\n",
        "    } else {\n",
        "        recommendation = \"Downtown Diner\";\n",
        "    }\n",
        "} else {\n",
        "    recommendation = \"Food Court\";\n",
        "}\n",
        "\n",
        "console.log(`\\nRecommendation: ${recommendation}`);\n"
      ]
    },
    {
      "cell_type": "markdown",
      "metadata": {},
      "source": [
        "## Problem 3: Design a Smart Home Thermostat System (Hard)\n",
        "\n",
        "You're designing the logic for a smart thermostat that automatically adjusts temperature based on multiple factors.\n",
        "\n",
        "**Word Problem:**\n",
        "\n",
        "The thermostat needs to decide what action to take based on:\n",
        "- Current temperature\n",
        "- Whether anyone is home\n",
        "- Time of day (represented as \"day\" or \"night\")\n",
        "- Energy saving mode (on or off)\n",
        "\n",
        "**Logic Requirements:**\n",
        "\n",
        "1. **If someone is home:**\n",
        "   - During the day:\n",
        "     - If temp is above 75°F: set action to \"cooling\" and targetTemp to 72\n",
        "     - If temp is below 68°F: set action to \"heating\" and targetTemp to 70\n",
        "     - Otherwise: set action to \"maintaining\" and keep current temp\n",
        "   - During the night:\n",
        "     - If temp is above 72°F: set action to \"cooling\" and targetTemp to 68\n",
        "     - If temp is below 65°F: set action to \"heating\" and targetTemp to 68\n",
        "     - Otherwise: set action to \"maintaining\" and keep current temp\n",
        "\n",
        "2. **If no one is home:**\n",
        "   - If energy saving mode is ON:\n",
        "     - If temp is above 80°F: set action to \"cooling\" and targetTemp to 78\n",
        "     - If temp is below 60°F: set action to \"heating\" and targetTemp to 62\n",
        "     - Otherwise: set action to \"off\" and targetTemp to current temp\n",
        "   - If energy saving mode is OFF:\n",
        "     - Set action to \"maintaining\" and targetTemp to 70\n",
        "\n",
        "**Your task:** Design the complete nested conditional algorithm from scratch. You're given the framework below with initial values, but NO code. Write the entire logic yourself."
      ]
    },
    {
      "cell_type": "code",
      "execution_count": null,
      "metadata": {
        "vscode": {
          "languageId": "javascript"
        }
      },
      "outputs": [],
      "source": [
        "\\// Test variables\n",
        "let currentTemp = 78;\n",
        "let isHomeOccupied = true;\n",
        "let timeOfDay = \"day\";  // \"day\" or \"night\"\n",
        "let energySavingMode = false;\n",
        "\n",
        "// Variables to set\n",
        "let action = \"\";  // \"heating\", \"cooling\", \"maintaining\", or \"off\"\n",
        "let targetTemp = currentTemp;\n",
        "\n",
        "console.log(\"=== Smart Thermostat Status ===\");\n",
        "console.log(`Current Temperature: ${currentTemp}°F`);\n",
        "console.log(`Home Occupied: ${isHomeOccupied}`);\n",
        "console.log(`Time of Day: ${timeOfDay}`);\n",
        "console.log(`Energy Saving Mode: ${energySavingMode}`);\n",
        "console.log();\n",
        "\n",
        "// Start conditional logic\n",
        "if (isHomeOccupied) {\n",
        "    if (timeOfDay === \"day\") {\n",
        "        if (currentTemp > 75) {\n",
        "            action = \"cooling\";\n",
        "            targetTemp = 72;\n",
        "        } else if (currentTemp < 68) {\n",
        "            action = \"heating\";\n",
        "            targetTemp = 70;\n",
        "        } else {\n",
        "            action = \"maintaining\";\n",
        "            targetTemp = currentTemp;\n",
        "        }\n",
        "    } else if (timeOfDay === \"night\") {\n",
        "        if (currentTemp > 72) {\n",
        "            action = \"cooling\";\n",
        "            targetTemp = 68;\n",
        "        } else if (currentTemp < 65) {\n",
        "            action = \"heating\";\n",
        "            targetTemp = 68;\n",
        "        } else {\n",
        "            action = \"maintaining\";\n",
        "            targetTemp = currentTemp;\n",
        "        }\n",
        "    }\n",
        "} else {\n",
        "    if (energySavingMode) {\n",
        "        if (currentTemp > 80) {\n",
        "            action = \"cooling\";\n",
        "            targetTemp = 78;\n",
        "        } else if (currentTemp < 60) {\n",
        "            action = \"heating\";\n",
        "            targetTemp = 62;\n",
        "        } else {\n",
        "            action = \"off\";\n",
        "            targetTemp = currentTemp;\n",
        "        }\n",
        "    } else {\n",
        "        action = \"maintaining\";\n",
        "        targetTemp = 70;\n",
        "    }\n",
        "}\n",
        "\n",
        "console.log(\"=== Thermostat Action ===\");\n",
        "console.log(`Action: ${action}`);\n",
        "console.log(`Target Temperature: ${targetTemp}°F`);\n"
      ]
    },
    {
      "cell_type": "markdown",
      "metadata": {},
      "source": [
        "Which problem was the most challenging and why?\n",
        "Problem 3 was the most challenging because it involved multiple conditions (temperature, occupancy, time of day, and energy mode) that all had to interact correctly. It required careful planning to avoid mixing up logic, especially since the same temperature might lead to different actions depending on whether it’s day or night, or if someone is home.\n",
        "\n",
        "How did you decide on the structure of your nested conditionals in Problem 3?\n",
        "I started by identifying the primary condition: whether someone is home. From there, I created inner blocks for time of day if the home is occupied, and energy saving mode if not. Then, inside those, I handled specific temperature comparisons. This top-down approach helped keep the logic clear and avoided unnecessary repetition.\n",
        "\n",
        "Can you think of a real-world situation where you would need even MORE levels of nesting than Problem 3?\n",
        "Yes — managing airline booking systems could require deeper nesting. For example, checking a passenger’s ticket class, travel status (checked-in or not), seat availability, special needs (like meals or wheelchair access), and connecting flights — all in different combinations. Each of those layers could lead to more detailed decisions, making the nesting more complex than the thermostat system."
      ]
    }
  ],
  "metadata": {
    "kernelspec": {
      "display_name": "Python 3",
      "language": "python",
      "name": "python3"
    },
    "language_info": {
      "codemirror_mode": {
        "name": "ipython",
        "version": 3
      },
      "file_extension": ".py",
      "mimetype": "text/x-python",
      "name": "python",
      "nbconvert_exporter": "python",
      "pygments_lexer": "ipython3",
      "version": "3.8.0"
    }
  },
  "nbformat": 4,
  "nbformat_minor": 4
}
