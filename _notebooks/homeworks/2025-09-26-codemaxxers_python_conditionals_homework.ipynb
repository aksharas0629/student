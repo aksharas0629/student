{
 "cells": [
  {
   "cell_type": "raw",
   "id": "4aea221d",
   "metadata": {
    "vscode": {
     "languageId": "raw"
    }
   },
   "source": [
    "---\n",
    "title: \"Conditionals in Javascript and Python - Hacks\"\n",
    "description: \"Apply your skills to basic algorithmic design with conditionals.\"\n",
    "layout: post\n",
    "permalink: /csp/CodeMaxxers/conditionals/p4/hacks-python\n",
    "---\n"
   ]
  },
  {
   "cell_type": "markdown",
   "id": "7ad8e13c",
   "metadata": {},
   "source": [
    "\n",
    "# 🚀 CSP 3.6 Hacks — Conditionals \n",
    "\n",
    "You will complete **three** small programs that practice *selection* using `if`, `if/else`, and `if/elif/else`.  \n",
    "Please do not use nested conditionals as that is for 3.7\n",
    "\n",
    "## How to comeplete\n",
    "1. **Read the directions** for the hack you’re on.\n",
    "2. **Run the starter cell**, add your code where marked.\n",
    "3. **Test your program** with at least the sample inputs provided.\n",
    "4. **Make one or more small changes to the starter code** (This can be the message, number, range, etc). Please do not just turn in the starter code\n",
    "5. When finished, **screenshot or record** a short demo and add it to your portfolio.\n",
    "\n",
    "---\n",
    "## What we’re assessing\n",
    "- Correct use of `if`, `elif`, `else` .\n",
    "- Correct boolean expressions with comparisons and `and`/`or`/`not`.\n",
    "- Output matches the rules **for the given inputs**.\n",
    "- Clean prompts and give some comments that show your understanding."
   ]
  },
  {
   "cell_type": "markdown",
   "id": "dfe8fa90",
   "metadata": {},
   "source": [
    "# 🟢 Hack 1 — Number Range Checker\n",
    "\n",
    "num = int(input(\"Enter a number: \"))\n",
    "\n",
    "if num >= 0 and num <= 10:\n",
    "    print(num)\n",
    "    print(\"Goodbye\")\n",
    "else:\n",
    "    print(\"Goodbye!\")\n"
   ]
  },
  {
   "cell_type": "markdown",
   "id": "f0c3ee87",
   "metadata": {},
   "source": [
    "# 🟡 Hack 2 — Grade Evaluator\n",
    "\n",
    "grade = int(input(\"Enter your grade (0-100): \"))\n",
    "\n",
    "if grade < 0 or grade > 100:\n",
    "    print(\"Invalid input. Grade must be between 0 and 100.\")\n",
    "elif grade >= 90:\n",
    "    print(\"You got an A!\")\n",
    "    print(\"Have a good day\")\n",
    "elif grade >= 87:\n",
    "    print(\"Can be rounded to an A\")\n",
    "    print(\"Have a good day\")\n",
    "else:\n",
    "    print(\"Have a good day\")\n"
   ]
  },
  {
   "cell_type": "markdown",
   "id": "10724019",
   "metadata": {},
   "source": [
    "# 🔵 Hack 3 — Access Pass (Hard)\n",
    "\n",
    "age = int(input(\"Enter your age: \"))\n",
    "has_ticket = input(\"Do you have a ticket? (yes/no): \").strip().lower()\n",
    "vip = input(\"Are you a VIP? (yes/no): \").strip().lower()\n",
    "\n",
    "if vip == \"yes\":\n",
    "    print(\"VIP Entrance\")\n",
    "elif has_ticket == \"yes\" and age >= 16:\n",
    "    print(\"General Entrance\")\n",
    "elif has_ticket == \"yes\" and age < 16 and age >= 8:\n",
    "    print(\"Minor Entrance (with guardian)\")\n",
    "elif has_ticket == \"yes\" and age < 8:\n",
    "    print(\"Kid Entrance (with adult)\")\n",
    "else:\n",
    "    print(\"No Entrance\")\n"
   ]
  },
  {
   "cell_type": "markdown",
   "id": "e65a930a",
   "metadata": {},
   "source": [
    "## Hack 1 — Number Range Checker\n",
    "\n",
    "**Just try your best, we know this can be challenging but please do not use AI to do these problems.**\n"
   ]
  },
  {
   "cell_type": "code",
   "execution_count": null,
   "id": "adf08e23",
   "metadata": {},
   "outputs": [],
   "source": [
    "num = int(input(\"Enter a number: \"))\n",
    "\n",
    "if num >= 0 and num <= 10:\n",
    "    print(num)\n",
    "    print(\"Goodbye\")\n",
    "else:\n",
    "    print(\"Goodbye!\")\n"
   ]
  },
  {
   "cell_type": "markdown",
   "id": "6336b78d",
   "metadata": {},
   "source": [
    "## Hack 2 — Grade Evaluator\n",
    "\n",
    "**Just try your best, we know this can be challenging but please do not use AI to do these problems.**\n"
   ]
  },
  {
   "cell_type": "code",
   "execution_count": null,
   "id": "34cb49f9",
   "metadata": {},
   "outputs": [],
   "source": [
    "grade = int(input(\"Enter your grade (0-100): \"))\n",
    "\n",
    "if grade >= 90:\n",
    "    print(\"A\")\n",
    "    print(\"Have a good day\")\n",
    "elif grade >= 87:\n",
    "    print(\"Can be rounded to an A\")\n",
    "    print(\"Have a good day\")\n",
    "else:\n",
    "    print(\"Have a good day\")\n"
   ]
  },
  {
   "cell_type": "markdown",
   "id": "9745bec0",
   "metadata": {},
   "source": [
    "## Hack 3 — Access Pass (Advanced) \n",
    "**Just try your best, we know this can be challenging but please do not use AI to do these problems.**\n",
    "\n",
    "You can always go back to the lesson to relearn the topics. If you are really stuck, just add comments explaining your thought process and where you are stuck on, we will grade it based on your understanding, not just completion."
   ]
  },
  {
   "cell_type": "code",
   "execution_count": null,
   "id": "838cdadd",
   "metadata": {},
   "outputs": [],
   "source": [
    "age = int(input(\"Age: \"))\n",
    "has_ticket = input(\"Has ticket? (yes/no): \").strip().lower()\n",
    "vip = input(\"VIP? (yes/no): \").strip().lower()\n",
    "\n",
    "if vip == \"yes\":\n",
    "    print(\"VIP Entrance\")\n",
    "elif has_ticket == \"yes\" and age >= 16:\n",
    "    print(\"General Entrance\")\n",
    "elif has_ticket == \"yes\" and age < 16:\n",
    "    print(\"Minor Entrance (with guardian)\")\n",
    "else:\n",
    "    print(\"No Entrance\")\n"
   ]
  },
  {
   "cell_type": "markdown",
   "id": "5027c0f3",
   "metadata": {},
   "source": [
    "\n",
    "---\n",
    "### Reflection: Think about the following question. Answer in 3-4 sentences\n",
    "- Did any of the question trip you up? If yes, explain the problem and your solution. If no, give a brief, 1-2 sentence summary of conditionals.\n",
    "- Can you think of real life examples where we would use conditionals? Please do NOT use one of the hacks as a real life example\n",
    "- Which operator (`and`, `or`, `not`) do you think you will use the most, and why?"
   ]
  },
  {
   "cell_type": "markdown",
   "id": "e42cf675",
   "metadata": {},
   "source": [
    "1. The hardest part was remembering to use `.strip().lower()` to handle messy user input like \"Yes\" or \" YES  \". Once I added that, the conditionals worked as expected. Also, making sure the order of the `if/elif/else` statements is correct helped avoid logic errors.\n",
    "2. When using a GPS app, it checks if there is traffic on your current route. If there is, it suggests an alternate route. If not, it tells you to keep going straight.\n",
    "3. I think I will use `and` the most, because most real-world decisions depend on multiple things being true at the same time (like age AND ticket status).\n"
   ]
  },
  {
   "cell_type": "markdown",
   "id": "8a2d9f1b",
   "metadata": {},
   "source": [
    "\n",
    "---\n",
    "### 🧾 Turn-in checklist\n",
    "- [ ] All three hacks run and match the rules above them. \n",
    "- [ ] You included at least one changed element for at least one hack, this can be change of message, the range, or the input information...\n",
    "- [ ] You wrote a 2–3 sentence reflection in your portfolio:  \n",
    "  - What conditional form did you use most?  \n",
    "  - Where did you use `and`/`or`/`not`?  \n",
    "  - What would you like to add to the lesson that would help you better understand the material?\n"
   ]
  }
 ],
 "metadata": {
  "kernelspec": {
   "display_name": "venv (3.12.3)",
   "language": "python",
   "name": "python3"
  },
  "language_info": {
   "codemirror_mode": {
    "name": "ipython",
    "version": 3
   },
   "file_extension": ".py",
   "mimetype": "text/x-python",
   "name": "python",
   "nbconvert_exporter": "python",
   "pygments_lexer": "ipython3",
   "version": "3.12.3"
  }
 },
 "nbformat": 4,
 "nbformat_minor": 5
}
