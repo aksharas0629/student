{
 "cells": [
  {
   "cell_type": "raw",
   "id": "6e07d1a7",
   "metadata": {
    "vscode": {
     "languageId": "raw"
    }
   },
   "source": [
    "---\n",
    "layout: post\n",
    "title: \"Escape Room 3.15 - Hacks & Extensions\"\n",
    "description: \"Extended Python challenges and hacks for CSP 3.15 Escape Room - Random Values\"\n",
    "type: hacks\n",
    "toc: true\n",
    "comments: true\n",
    "permalink: /3.15/homework/python\n",
    "author: Team Debuggers\n",
    "---\n"
   ]
  },
  {
   "cell_type": "markdown",
   "id": "9f874417",
   "metadata": {},
   "source": [
    "# 🚀 Escape Room Python Hacks\n"
   ]
  },
  {
   "cell_type": "markdown",
   "id": "7aedbe34",
   "metadata": {},
   "source": [
    "1. Simulate rolling two dice and show all possible sums of their outcomes."
   ]
  },
  {
   "cell_type": "code",
   "execution_count": null,
   "id": "a73638bf",
   "metadata": {},
   "outputs": [],
   "source": [
    "# 🎲 Die faces: 1, 2, 3, 4, 5, 6\n",
    "\n",
    "# Loop through all possible values for the first die\n",
    "for die1 in range(1, 7):\n",
    "    # Loop through all possible values for the second die\n",
    "    for die2 in range(1, 7):\n",
    "        total = die1 + die2\n",
    "        print(f\"Die 1: {die1}, Die 2: {die2}, Sum: {total}\")\n"
   ]
  },
  {
   "cell_type": "markdown",
   "id": "323ac43a",
   "metadata": {},
   "source": [
    "2. Create a fortune teller program. The response \"Try Again\" should appear 40% of the time, while the other possible responses are \"Yes\", \"No\", and \"Maybe\"."
   ]
  },
  {
   "cell_type": "code",
   "execution_count": null,
   "id": "c608c7e8",
   "metadata": {},
   "outputs": [],
   "source": [
    "import random\n",
    "\n",
    "# 🔮 Fortune Teller\n",
    "\n",
    "# Generate a random number between 1 and 100\n",
    "num = random.randint(1, 100)\n",
    "\n",
    "if num <= 40:\n",
    "    print(\"Try Again\")\n",
    "elif num <= 60:   # 41–60 -> 20%\n",
    "    print(\"Yes\")\n",
    "elif num <= 80:   # 61–80 -> 20%\n",
    "    print(\"No\")\n",
    "else:             # 81–100 -> 20%\n",
    "    print(\"Maybe\")\n"
   ]
  },
  {
   "cell_type": "markdown",
   "id": "f5f6ad02",
   "metadata": {},
   "source": [
    "3. Create a program that randomly selects a meal from a menu list. For example: \"Pizza\", \"Burger\", \"Salad\", \"Pasta\", \"Sushi\"."
   ]
  },
  {
   "cell_type": "code",
   "execution_count": null,
   "id": "623d5cec",
   "metadata": {},
   "outputs": [],
   "source": [
    "import random\n",
    "\n",
    "# 🍔 Menu list of meals\n",
    "meals = [\"Pizza\", \"Burger\", \"Salad\", \"Pasta\", \"Sushi\"]\n",
    "\n",
    "# Pick one random meal from the list\n",
    "selected_meal = random.choice(meals)\n",
    "\n",
    "# Print the selected meal\n",
    "print(\"Today's meal:\", selected_meal)\n"
   ]
  },
  {
   "cell_type": "markdown",
   "id": "e230199d",
   "metadata": {},
   "source": [
    "4. Practice using random.choice() and random.shuffle().\n",
    "\n",
    "- Use random.choice() to select one random card from a deck.\n",
    "\n",
    "- Use random.shuffle() to shuffle the entire deck."
   ]
  },
  {
   "cell_type": "code",
   "execution_count": null,
   "id": "9efcd451",
   "metadata": {},
   "outputs": [],
   "source": [
    "import random\n",
    "\n",
    "# 🃏 Deck of cards (simplified as numbers 1–10)\n",
    "deck = [1,2,3,4,5,6,7,8,9,10]\n",
    "\n",
    "# Use random.choice() to pick one random card\n",
    "picked_card = random.choice(deck)\n",
    "print(\"Randomly picked card:\", picked_card)\n",
    "\n",
    "# Use random.shuffle() to shuffle the entire deck\n",
    "random.shuffle(deck)\n",
    "print(\"Shuffled deck:\", deck)\n"
   ]
  }
 ],
 "metadata": {
  "kernelspec": {
   "display_name": "venv (3.12.3)",
   "language": "python",
   "name": "python3"
  },
  "language_info": {
   "name": "python",
   "version": "3.12.3"
  }
 },
 "nbformat": 4,
 "nbformat_minor": 5
}
