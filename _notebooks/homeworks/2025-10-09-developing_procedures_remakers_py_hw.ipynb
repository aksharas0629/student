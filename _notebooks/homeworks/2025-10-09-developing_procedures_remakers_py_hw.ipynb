{
 "cells": [
  {
   "cell_type": "raw",
   "id": "29fdb64f",
   "metadata": {
    "vscode": {
     "languageId": "raw"
    }
   },
   "source": [
    "---\n",
    "toc: true\n",
    "layout: post\n",
    "categories: [Python]\n",
    "title: Remakers - 3.13 Developing Procedures Python Hacks\n",
    "description: \"Apply your skills to basic procedure development in Javascript.\"\n",
    "permalink: /python/developing-procedures/remakers-hw\n",
    "author: Krishna Visvanath, Sloane Sommers\n",
    "---"
   ]
  },
  {
   "cell_type": "markdown",
   "id": "51406078",
   "metadata": {},
   "source": [
    "### Q1 (Easy)\n",
    "Which of these procedures is named well, provide a **short** explanation of justification"
   ]
  },
  {
   "cell_type": "code",
   "execution_count": null,
   "id": "85877c5a",
   "metadata": {},
   "outputs": [],
   "source": [
    "def mix_ingredients():\n",
    "\n",
    "def do_it():\n",
    "\n",
    "def make_move():"
   ]
  },
  {
   "cell_type": "markdown",
   "id": "e05b98ef",
   "metadata": {},
   "source": [
    "**Explanation Here:**\n",
    "The procedure **`mix_ingredients()`** is named well.\n",
    "\n",
    "**Justification:**\n",
    "\n",
    "* The name is **descriptive** and clearly tells what the function does.\n",
    "* Good naming should be **action-oriented** and meaningful, which `do_it()` and `make_move()` are not as clearly.\n"
   ]
  },
  {
   "cell_type": "markdown",
   "id": "3b2e2e46",
   "metadata": {},
   "source": [
    "### Q2 (Medium)\n",
    "Finish the code to have a correctly named procedure"
   ]
  },
  {
   "cell_type": "code",
   "execution_count": null,
   "id": "e6d4b833",
   "metadata": {},
   "outputs": [],
   "source": [
    "# Helper procedures\n",
    "def move_forward():\n",
    "    print(\"Moving forward.\")\n",
    "\n",
    "def rotate_180():\n",
    "    print(\"Turning left\")\n",
    "\n",
    "def move_forward_again():\n",
    "    print(\"Moving forward again to complete left turn.\")\n",
    "\n",
    "# Main procedure\n",
    "def make_left_turn():\n",
    "    move_forward()\n",
    "    rotate_180()\n",
    "    move_forward_again()\n",
    "\n",
    "# Run the procedure\n",
    "if __name__ == '__main__':\n",
    "    make_left_turn()\n"
   ]
  },
  {
   "cell_type": "markdown",
   "id": "81c68339",
   "metadata": {},
   "source": [
    "### Q3 (Hard)\n",
    "Write code to fulfill the requirements\n",
    "Doing a dance! 🕺💃\n",
    "Must have\n",
    "1. A shimmy left procedure\n",
    "- Print `super cool left slide`\n",
    "2. A shimmy right procedure, print `even cooler right slide`\n",
    "3. Doing a bow to the crowd, print `Great dance!`, `the audience claps at your bow!`"
   ]
  },
  {
   "cell_type": "code",
   "execution_count": null,
   "id": "9f7c7c6f",
   "metadata": {},
   "outputs": [],
   "source": [
    "# Shimmy left procedure\n",
    "def shimmy_left():\n",
    "    print(\"super cool left slide\")\n",
    "\n",
    "# Shimmy right procedure\n",
    "def shimmy_right():\n",
    "    print(\"even cooler right slide\")\n",
    "\n",
    "# Bow to the crowd procedure\n",
    "def bow_to_crowd():\n",
    "    print(\"Great dance!\")\n",
    "    print(\"the audience claps at your bow!\")\n",
    "\n",
    "# Perform the dance\n",
    "if __name__ == \"__main__\":\n",
    "    shimmy_left()\n",
    "    shimmy_right()\n",
    "    bow_to_crowd()\n"
   ]
  }
 ],
 "metadata": {
  "language_info": {
   "name": "python"
  }
 },
 "nbformat": 4,
 "nbformat_minor": 5
}
