{
 "cells": [
  {
   "cell_type": "code",
   "execution_count": null,
   "id": "e4102f0e",
   "metadata": {
    "vscode": {
     "languageId": "yaml"
    }
   },
   "outputs": [],
   "source": [
    "---\n",
    "toc: true\n",
    "comments: false\n",
    "layout: post\n",
    "categories: [CSP Big Idea 3]\n",
    "title: 3.2 Data Abstractions JS Hack\n",
    "author: Jaynee Chauhan, Michelle Ji, Lucas Masterson\n",
    "description: Hack(s) for intro to data abstractions in JS.\n",
    "type: ccc\n",
    "permalink: /csp/big-idea-3/data-abstractions/p4/hacks-js\n",
    "---"
   ]
  },
  {
   "cell_type": "markdown",
   "id": "690b4172",
   "metadata": {},
   "source": [
    "## JS Lab: Library\n",
    "\n",
    "In this lab, similarly to the Python lab, you'll be working on a simple \"database\" for a library to understand CRUD operations in relation to representing redundant, similar data under one structure -- an abstraction.\n",
    "\n",
    "For JavaScript, you'll have to open the web console from Developer Tools (`ctrl + shift + p` -> `Developer: Toggle developer tools`)."
   ]
  },
  {
   "cell_type": "code",
   "execution_count": null,
   "id": "d7228dda",
   "metadata": {
    "vscode": {
     "languageId": "javascript"
    }
   },
   "outputs": [],
   "source": [
    "let library = [\n",
    "    { title: \"1984\", author: \"George Orwell\", checkedOut: false },\n",
    "    { title: \"To Kill a Mockingbird\", author: \"Harper Lee\", checkedOut: true },\n",
    "    { title: \"The Great Gatsby\", author: \"F. Scott Fitzgerald\", checkedOut: false }\n",
    "];\n",
    "\n",
    "// Display all books\n",
    "function displayLibrary(lib) {\n",
    "    console.log(\"All books in the library:\");\n",
    "    lib.forEach((book, i) => {\n",
    "        console.log(`Index ${i}:`, book);\n",
    "    });\n",
    "}\n",
    "\n",
    "// Add a new book\n",
    "function addBook(lib) {\n",
    "    let title = prompt(\"Enter the book title:\");\n",
    "    let author = prompt(\"Enter the author name:\");\n",
    "    let checkedOutInput = prompt(\"Is the book checked out? (yes/no)\").toLowerCase();\n",
    "    let checkedOut = checkedOutInput === \"yes\" ? true : false;\n",
    "\n",
    "    lib.push({ title, author, checkedOut });\n",
    "    console.log(`Added \"${title}\" by ${author} to the library.`);\n",
    "}\n",
    "\n",
    "// Find a book by title\n",
    "function findBook(lib, searchTitle) {\n",
    "    let book = lib.find(b => b.title.toLowerCase() === searchTitle.toLowerCase());\n",
    "    if (book) {\n",
    "        console.log(\"Book found:\", book);\n",
    "    } else {\n",
    "        console.log(`No book with the title \"${searchTitle}\" was found.`);\n",
    "    }\n",
    "}\n",
    "\n",
    "// Update a book's checkedOut status\n",
    "function updateBook(lib, searchTitle) {\n",
    "    let book = lib.find(b => b.title.toLowerCase() === searchTitle.toLowerCase());\n",
    "    if (book) {\n",
    "        book.checkedOut = !book.checkedOut; // Toggle checkedOut status\n",
    "        console.log(`Updated \"${book.title}\" checkedOut status to ${book.checkedOut}.`);\n",
    "    } else {\n",
    "        console.log(`No book with the title \"${searchTitle}\" was found.`);\n",
    "    }\n",
    "}\n",
    "\n",
    "// Delete a book by title\n",
    "function deleteBook(lib, searchTitle) {\n",
    "    let index = lib.findIndex(b => b.title.toLowerCase() === searchTitle.toLowerCase());\n",
    "    if (index !== -1) {\n",
    "        let removed = lib.splice(index, 1);\n",
    "        console.log(`Deleted \"${removed[0].title}\" from the library.`);\n",
    "    } else {\n",
    "        console.log(`No book with the title \"${searchTitle}\" was found.`);\n",
    "    }\n",
    "}\n",
    "\n",
    "// Example usage\n",
    "displayLibrary(library);\n",
    "// Uncomment these to test:\n",
    "// addBook(library);\n",
    "// findBook(library, \"1984\");\n",
    "// updateBook(library, \"To Kill a Mockingbird\");\n",
    "// deleteBook(library, \"The Great Gatsby\");\n",
    "// displayLibrary(library);\n"
   ]
  }
 ],
 "metadata": {
  "kernelspec": {
   "display_name": "venv",
   "language": "python",
   "name": "python3"
  },
  "language_info": {
   "codemirror_mode": {
    "name": "ipython",
    "version": 3
   },
   "file_extension": ".py",
   "mimetype": "text/x-python",
   "name": "python",
   "nbconvert_exporter": "python",
   "pygments_lexer": "ipython3",
   "version": "3.13.7"
  }
 },
 "nbformat": 4,
 "nbformat_minor": 5
}
