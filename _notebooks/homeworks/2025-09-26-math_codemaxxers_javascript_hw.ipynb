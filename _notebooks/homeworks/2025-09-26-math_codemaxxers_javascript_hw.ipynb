{
 "cells": [
  {
   "cell_type": "raw",
   "id": "6290bcd2",
   "metadata": {
    "vscode": {
     "languageId": "raw"
    }
   },
   "source": [
    "---\n",
    "title: \"Mathematical Operations in Javascript and Python - Hacks\"\n",
    "description: \"Apply your skills of math, logic, and coding.\"\n",
    "layout: post\n",
    "permalink: /javascript/mathematical-expressions/codemaxxers-hw\n",
    "---"
   ]
  },
  {
   "cell_type": "markdown",
   "id": "d98b569e",
   "metadata": {},
   "source": [
    "# Basic Algebraic Math hacks\n",
    "\n",
    "## Q1 (Exponents):\n",
    "### A cube has a side length of 6 units. What is its volume?"
   ]
  },
  {
   "cell_type": "code",
   "execution_count": null,
   "id": "235ceb13",
   "metadata": {
    "vscode": {
     "languageId": "javascript"
    }
   },
   "outputs": [],
   "source": [
    "// 🧮 Basic Algebraic Math Hacks\n",
    "\n",
    "// Q1 (Exponents):\n",
    "// A cube has a side length of 6 units. What is its volume?\n",
    "\n",
    "let sideLength = 6;\n",
    "let volume = sideLength ** 3;\n",
    "\n",
    "console.log(\"The volume of the cube is:\", volume);\n",
    "// expected output: 216\n"
   ]
  },
  {
   "cell_type": "markdown",
   "id": "28ec3054",
   "metadata": {},
   "source": []
  },
  {
   "cell_type": "markdown",
   "id": "3fb1dd4d",
   "metadata": {},
   "source": [
    "## Q2 (PEMDAS):\n",
    "### Evaluate the expression: \n",
    "\n",
    "(7+14)*5/12 + 2"
   ]
  },
  {
   "cell_type": "code",
   "execution_count": null,
   "id": "49d712a3",
   "metadata": {
    "vscode": {
     "languageId": "javascript"
    }
   },
   "outputs": [],
   "source": [
    "// 🧮 Basic Algebraic Math Hacks\n",
    "\n",
    "// Q2 (PEMDAS):\n",
    "// Evaluate the expression: (7 + 14) * 5 / 12 + 2\n",
    "\n",
    "let operation = (7 + 14) * 5 / 12 + 2;\n",
    "\n",
    "console.log(\"The result of the operation is:\", operation);\n",
    "// expected output: 8.916666666666666\n"
   ]
  },
  {
   "cell_type": "markdown",
   "id": "fcaa4762",
   "metadata": {},
   "source": [
    "## Q3 (Algorithm): \n",
    "\n",
    "Write JavaScript  code where you define variables and run commands that find the values of operations you apply onto them"
   ]
  },
  {
   "cell_type": "code",
   "execution_count": null,
   "id": "0a2081a9",
   "metadata": {
    "vscode": {
     "languageId": "javascript"
    }
   },
   "outputs": [],
   "source": [
    "// 🧮 Basic Algebraic Math Hacks\n",
    "\n",
    "// Q3 (Algorithm):\n",
    "// Define variables and run commands that find the values of operations applied onto them\n",
    "\n",
    "let operation = (4 + 5) / 2;\n",
    "\n",
    "console.log(\"The value of the operation is:\", operation);\n",
    "// expected output: 4.5\n"
   ]
  },
  {
   "cell_type": "markdown",
   "id": "7927eeac",
   "metadata": {},
   "source": [
    "<img src=\"/images/3_3diagram.png\" alt=\"Diagram showing mathematical operations\" style=\"max-width:300px; margin:10px;\">\n"
   ]
  }
 ],
 "metadata": {
  "kernelspec": {
   "display_name": "venv",
   "language": "python",
   "name": "python3"
  },
  "language_info": {
   "codemirror_mode": {
    "name": "ipython",
    "version": 3
   },
   "file_extension": ".py",
   "mimetype": "text/x-python",
   "name": "python",
   "nbconvert_exporter": "python",
   "pygments_lexer": "ipython3",
   "version": "3.12.3"
  }
 },
 "nbformat": 4,
 "nbformat_minor": 5
}
